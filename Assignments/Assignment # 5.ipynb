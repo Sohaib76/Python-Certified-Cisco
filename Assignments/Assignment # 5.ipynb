{
 "cells": [
  {
   "cell_type": "code",
   "execution_count": 3,
   "metadata": {},
   "outputs": [
    {
     "name": "stdout",
     "output_type": "stream",
     "text": [
      "Input a number to compute the factiorial : 6\n",
      "720\n"
     ]
    }
   ],
   "source": [
    "def findFactorial(n):\n",
    "    if n == 0:\n",
    "        return 1\n",
    "    else:\n",
    "        return n * findFactorial(n-1)\n",
    "n=int(input(\"Input a number to compute the factiorial : \"))\n",
    "print(findFactorial(n))"
   ]
  },
  {
   "cell_type": "code",
   "execution_count": 6,
   "metadata": {},
   "outputs": [
    {
     "name": "stdout",
     "output_type": "stream",
     "text": [
      "No. of Upper case characters :  4\n",
      "No. of Lower case Characters :  18\n"
     ]
    }
   ],
   "source": [
    "def calc_Upper_Lower_case(s):\n",
    "    upper_case = 0\n",
    "    lower_case = 0\n",
    "    for char in s:\n",
    "        if char.isupper():\n",
    "           upper_case +=1\n",
    "        elif char.islower():\n",
    "           lower_case +=1\n",
    "        else:\n",
    "           pass\n",
    "    \n",
    "    print (\"No. of Upper case characters : \", upper_case)\n",
    "    print (\"No. of Lower case Characters : \", lower_case)\n",
    "\n",
    "calc_Upper_Lower_case('The is A String for tesTing.')"
   ]
  },
  {
   "cell_type": "code",
   "execution_count": 7,
   "metadata": {},
   "outputs": [
    {
     "name": "stdout",
     "output_type": "stream",
     "text": [
      "10\n",
      "212\n",
      "8\n",
      "6\n"
     ]
    }
   ],
   "source": [
    "my_list = [10, 212, 8, 45, 6,33] \n",
    "  \n",
    "for num in my_list:  \n",
    "    if num % 2 == 0: \n",
    "       print(num)"
   ]
  },
  {
   "cell_type": "code",
   "execution_count": 10,
   "metadata": {},
   "outputs": [
    {
     "name": "stdout",
     "output_type": "stream",
     "text": [
      "False\n",
      "True\n"
     ]
    }
   ],
   "source": [
    "def isPalindrome(s):\n",
    "    left_pos = 0\n",
    "    right_pos = len(s) - 1\n",
    "\n",
    "    while right_pos >= left_pos:\n",
    "        if not s[left_pos] == s[right_pos]:\n",
    "            return False\n",
    "        left_pos += 1\n",
    "        right_pos -= 1\n",
    "    return True\n",
    "print(isPalindrome('aaq')) \n",
    "print(isPalindrome('madam')) "
   ]
  },
  {
   "cell_type": "code",
   "execution_count": 12,
   "metadata": {},
   "outputs": [
    {
     "name": "stdout",
     "output_type": "stream",
     "text": [
      "True\n"
     ]
    }
   ],
   "source": [
    "def prime(n):\n",
    "    if (n==1):\n",
    "        return False\n",
    "    elif (n==2):\n",
    "        return True;\n",
    "    else:\n",
    "        for x in range(2,n):\n",
    "            if(n % x==0):\n",
    "                return False\n",
    "        return True             \n",
    "print(prime(19))"
   ]
  },
  {
   "cell_type": "code",
   "execution_count": 19,
   "metadata": {},
   "outputs": [
    {
     "name": "stdout",
     "output_type": "stream",
     "text": [
      "User Bought These Items. \n",
      "('Milk', 'Egg', 'Paratha', 'LED')\n",
      "None\n"
     ]
    }
   ],
   "source": [
    "def shopping_list(*args):\n",
    "    print(args)\n",
    "print(\"User Bought These Items. \")\n",
    "print(shopping_list(\"Milk\", \"Egg\", \"Paratha\", \"LED\"))"
   ]
  },
  {
   "cell_type": "code",
   "execution_count": null,
   "metadata": {},
   "outputs": [],
   "source": []
  }
 ],
 "metadata": {
  "kernelspec": {
   "display_name": "Python 3",
   "language": "python",
   "name": "python3"
  },
  "language_info": {
   "codemirror_mode": {
    "name": "ipython",
    "version": 3
   },
   "file_extension": ".py",
   "mimetype": "text/x-python",
   "name": "python",
   "nbconvert_exporter": "python",
   "pygments_lexer": "ipython3",
   "version": "3.6.7"
  }
 },
 "nbformat": 4,
 "nbformat_minor": 2
}
