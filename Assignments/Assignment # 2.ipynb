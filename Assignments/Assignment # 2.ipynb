{
 "cells": [
  {
   "cell_type": "code",
   "execution_count": 7,
   "metadata": {},
   "outputs": [
    {
     "name": "stdout",
     "output_type": "stream",
     "text": [
      "Enter marks of the first subject: 100\n",
      "Enter marks of the second subject: 80\n",
      "Enter marks of the third subject: 90\n",
      "Enter marks of the fourth subject: 65\n",
      "Enter marks of the fifth subject: 85\n",
      "Grade: A\n"
     ]
    }
   ],
   "source": [
    "subject1=int(input(\"Enter marks of the first subject: \"))\n",
    "subject2=int(input(\"Enter marks of the second subject: \"))\n",
    "subject3=int(input(\"Enter marks of the third subject: \"))\n",
    "subject4=int(input(\"Enter marks of the fourth subject: \"))\n",
    "subject5=int(input(\"Enter marks of the fifth subject: \"))\n",
    "avg=(subject1+subject2+subject3+subject4+subject5)/5\n",
    "if(avg>=90):\n",
    "    print(\"Grade: A+\")\n",
    "elif(avg>=80 and avg<90):\n",
    "    print(\"Grade: A\")\n",
    "elif(avg>=70 and avg<80):\n",
    "    print(\"Grade: B\")\n",
    "elif(avg>=60 and avg<70):\n",
    "    print(\"Grade: C\")\n",
    "else:\n",
    "    print(\"Grade: F\")"
   ]
  },
  {
   "cell_type": "code",
   "execution_count": 1,
   "metadata": {},
   "outputs": [
    {
     "name": "stdout",
     "output_type": "stream",
     "text": [
      "Enter a number: 3\n",
      "This is an odd number.\n"
     ]
    }
   ],
   "source": [
    "number = int(input(\"Enter a number: \"))\n",
    "modulus = number % 2\n",
    "if modulus > 0:\n",
    "    print(\"This is an odd number.\")\n",
    "else:\n",
    "    print(\"This is an even number.\")"
   ]
  },
  {
   "cell_type": "code",
   "execution_count": 2,
   "metadata": {},
   "outputs": [
    {
     "name": "stdout",
     "output_type": "stream",
     "text": [
      "6\n"
     ]
    }
   ],
   "source": [
    "lis = [2,3,525,6,2,\"asfa\"]\n",
    "print(len(lis))"
   ]
  },
  {
   "cell_type": "code",
   "execution_count": 3,
   "metadata": {},
   "outputs": [
    {
     "name": "stdout",
     "output_type": "stream",
     "text": [
      "44\n"
     ]
    }
   ],
   "source": [
    "mylist = [2,3,4,5,6,7,8,9]\n",
    "print(sum(mylist))"
   ]
  },
  {
   "cell_type": "code",
   "execution_count": 4,
   "metadata": {},
   "outputs": [
    {
     "name": "stdout",
     "output_type": "stream",
     "text": [
      "9\n"
     ]
    }
   ],
   "source": [
    "print(max(mylist))"
   ]
  },
  {
   "cell_type": "code",
   "execution_count": 5,
   "metadata": {},
   "outputs": [
    {
     "name": "stdout",
     "output_type": "stream",
     "text": [
      "1\n",
      "1\n",
      "2\n",
      "3\n"
     ]
    }
   ],
   "source": [
    "a = [1, 1, 2, 3, 5, 8, 13, 21, 34, 55, 89]\n",
    "for x in a:\n",
    "    if x < 5:\n",
    "        print (x)"
   ]
  },
  {
   "cell_type": "code",
   "execution_count": null,
   "metadata": {},
   "outputs": [],
   "source": []
  }
 ],
 "metadata": {
  "kernelspec": {
   "display_name": "Python 3",
   "language": "python",
   "name": "python3"
  },
  "language_info": {
   "codemirror_mode": {
    "name": "ipython",
    "version": 3
   },
   "file_extension": ".py",
   "mimetype": "text/x-python",
   "name": "python",
   "nbconvert_exporter": "python",
   "pygments_lexer": "ipython3",
   "version": "3.6.7"
  }
 },
 "nbformat": 4,
 "nbformat_minor": 2
}
