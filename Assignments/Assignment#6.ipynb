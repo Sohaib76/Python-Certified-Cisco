{
 "cells": [
  {
   "cell_type": "code",
   "execution_count": null,
   "metadata": {},
   "outputs": [],
   "source": [
    "Object-oriented programming (OOP) is a software programming model constructed around objects. This model compartmentalizes data\n",
    "into objects (data fields) and describes object contents and behavior through the declaration of classes (methods)."
   ]
  },
  {
   "cell_type": "code",
   "execution_count": null,
   "metadata": {},
   "outputs": [],
   "source": [
    "Object-oriented programming allows for simplified programming. Its benefits include reusability, refactoring, extensibility, \n",
    "maintenance and efficiency."
   ]
  },
  {
   "cell_type": "code",
   "execution_count": null,
   "metadata": {},
   "outputs": [],
   "source": [
    "A method is on an object.\n",
    "A function is independent of an object."
   ]
  },
  {
   "cell_type": "code",
   "execution_count": null,
   "metadata": {},
   "outputs": [],
   "source": [
    "Object:\n",
    "    Object is simply a collection of data (variables) and methods (functions) that act on those data. \n",
    "Class:\n",
    "    Class is a blueprintfor the object.Like function definitions begin with the keyword def, in Python, \n",
    "    we define a class using the keyword class.\n",
    "    A class creates a new local namespace where all its attributes are defined. Attributes may be data or functions.\n",
    "Attributes:\n",
    "    Everything in Python is an object, and almost everything has attributes and methods. In python, functions too are objects. \n",
    "    So they have attributes like other objects. All functions have a built-in attribute __doc__, which returns the doc string \n",
    "    defined in the function source code. We can also assign new attributes to them, as well as retrieve the values of those \n",
    "    attributes.\n",
    "Behavior:\n",
    "    behavior is how a feature operates within a well-defined scenario of inputs, actions, and outcomes. Products can exhibit \n",
    "    countless behaviors"
   ]
  },
  {
   "cell_type": "code",
   "execution_count": null,
   "metadata": {},
   "outputs": [],
   "source": [
    "class Car(object): \n",
    "\n",
    "    def __init__(self, typ, make, model, color, year, miles):\n",
    "        self.typ = typ\n",
    "        self.make = make\n",
    "        self.model = model\n",
    "        self.color = color.lower()\n",
    "        self.year = year\n",
    "        self.miles = miles\n",
    "\n",
    "    def vehicle_print(self):\n",
    "            print('Vehicle Type: ' + str(self.typ))\n",
    "            print('Make: ' + str(self.make))\n",
    "            print('Model: ' + str(self.model))\n",
    "            print('Year: ' + str(self.year))\n",
    "            \n",
    "    def color_print(self):\n",
    "            print('Color: ' + str(self.color))\n",
    "    def usage(self):\n",
    "            print('Miles driven: ' + str(self.miles))\n",
    "\n",
    "\n",
    "bmw = Car('SUV', 'BMW', 'X5', 'silver', 2003, 120300)\n",
    "bmw.vehicle_print()\n",
    "tesla = Car('Sport', 'Tesla', 'Model S', 'red', 2014, 1243)\n",
    "tesla.vehicle_print()\n",
    "lambo = Car('race car', 'Lamborgini', 'Enzo', 'dark silver', 2014, 3500)\n",
    "lambo.vehicle_print()\n",
    "truck = Car('transport', 'Dirt Inc.', 'Dirt Blaster 100', 'blue', 1992, 120030)  \n",
    "truck.vehicle_print()\n",
    "teslax = Car('Sport', 'Tesla', 'Model X', 'grey', 2021, 10000)\n",
    "teslax.vehicle_print()"
   ]
  }
 ],
 "metadata": {
  "kernelspec": {
   "display_name": "Python 3",
   "language": "python",
   "name": "python3"
  },
  "language_info": {
   "codemirror_mode": {
    "name": "ipython",
    "version": 3
   },
   "file_extension": ".py",
   "mimetype": "text/x-python",
   "name": "python",
   "nbconvert_exporter": "python",
   "pygments_lexer": "ipython3",
   "version": "3.6.7"
  }
 },
 "nbformat": 4,
 "nbformat_minor": 2
}
