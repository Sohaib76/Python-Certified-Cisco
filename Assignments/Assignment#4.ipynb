{
 "cells": [
  {
   "cell_type": "code",
   "execution_count": 7,
   "metadata": {},
   "outputs": [
    {
     "name": "stdout",
     "output_type": "stream",
     "text": [
      "imran\n",
      "nwaz\n",
      "23\n",
      "sydney\n",
      "{'first_name': 'imran', 'last_name': 'nwaz', 'age': 23, 'city': 'sydney', 'qualification': 'Graduate'}\n",
      "{'first_name': 'imran', 'last_name': 'nwaz', 'age': 23, 'city': 'sydney'}\n"
     ]
    }
   ],
   "source": [
    "person = {\n",
    "    'first_name': 'imran','last_name': 'nwaz','age': 23,'city': 'sydney', }\n",
    "\n",
    "print(person['first_name'])\n",
    "print(person['last_name'])\n",
    "print(person['age'])\n",
    "print(person['city'])\n",
    "\n",
    "person[\"qualification\"] = \"Inter\"\n",
    "person.update({\"qualification\":\"Graduate\"})\n",
    "print(person)\n",
    "person.pop(\"qualification\")\n",
    "print(person)"
   ]
  },
  {
   "cell_type": "code",
   "execution_count": 6,
   "metadata": {},
   "outputs": [
    {
     "name": "stdout",
     "output_type": "stream",
     "text": [
      "\n",
      "Santiago is in Chile.\n",
      "It has a population of about 6158080.\n",
      "The Andes mountains are nearby.\n",
      "\n",
      "Talkeetna is in Alaska.\n",
      "It has a population of about 876.\n",
      "The Alaska Range mountains are nearby.\n",
      "\n",
      "Karachi is in Pakistan.\n",
      "It has a population of about 15741000.\n",
      "The Kirthar mountains are nearby.\n"
     ]
    }
   ],
   "source": [
    "cities = {\n",
    "    'santiago': {\n",
    "        'country': 'chile',\n",
    "        'population': 6158080,\n",
    "        'nearby mountains': 'andes',\n",
    "        },\n",
    "    'talkeetna': {\n",
    "        'country': 'alaska',\n",
    "        'population': 876,\n",
    "        'nearby mountains': 'alaska range',\n",
    "        },\n",
    "    'karachi': {\n",
    "        'country': 'pakistan',\n",
    "        'population': 15741000,\n",
    "        'nearby mountains': 'Kirthar',\n",
    "        }\n",
    "    }\n",
    "\n",
    "for city, city_info in cities.items():\n",
    "    country = city_info['country'].title()\n",
    "    population = city_info['population']\n",
    "    mountains = city_info['nearby mountains'].title()\n",
    "\n",
    "    print(\"\\n\" + city.title() + \" is in \" + country + \".\")\n",
    "    print(\"It has a population of about \" + str(population) + \".\")\n",
    "    print(\"The \" + mountains + \" mountains are nearby.\")"
   ]
  },
  {
   "cell_type": "code",
   "execution_count": 5,
   "metadata": {},
   "outputs": [
    {
     "name": "stdout",
     "output_type": "stream",
     "text": [
      "What is your age?\n",
      "Enter 'quit' if you want to close. 13\n",
      "  Your ticket fee is $15.\n",
      "What is your age?\n",
      "Enter 'quit' if you want to close. 2\n",
      "  You get in free!\n",
      "What is your age?\n",
      "Enter 'quit' if you want to close. 7\n",
      "  Your ticket fee is $10.\n",
      "What is your age?\n",
      "Enter 'quit' if you want to close. quit\n"
     ]
    }
   ],
   "source": [
    "prompt = \"What is your age?\"\n",
    "prompt += \"\\nEnter 'quit' if you want to close. \"\n",
    "\n",
    "while True:\n",
    "    age = input(prompt)\n",
    "    if age == 'quit':\n",
    "        break\n",
    "    age = int(age)\n",
    "\n",
    "    if age < 3:\n",
    "        print(\"  You get in free!\")\n",
    "    elif age < 13:\n",
    "        print(\"  Your ticket fee is $10.\")\n",
    "    else:\n",
    "        print(\"  Your ticket fee is $15.\")"
   ]
  },
  {
   "cell_type": "code",
   "execution_count": 4,
   "metadata": {},
   "outputs": [
    {
     "name": "stdout",
     "output_type": "stream",
     "text": [
      "One of my favourite books is Harry Potter The Cursed Child\n"
     ]
    }
   ],
   "source": [
    "def favorite_book(title):\n",
    "    print(\"One of my favourite books is \" + title)\n",
    "\n",
    "favorite_book('Harry Potter The Cursed Child')"
   ]
  },
  {
   "cell_type": "code",
   "execution_count": 8,
   "metadata": {},
   "outputs": [
    {
     "name": "stdout",
     "output_type": "stream",
     "text": [
      "Hello! What is your name?\n",
      "Ali\n",
      "HEy, Ali, I am thinking of a number between 1 and 30.\n",
      "Take a guess.\n",
      "23\n",
      "Good job, Ali! You guessed the number in 1 guesses!\n"
     ]
    }
   ],
   "source": [
    "import random\n",
    "guessesTaken = 0\n",
    "print('Hello! What is your name?')\n",
    "userName = input()\n",
    "number = random.randint(1, 30)\n",
    "print('HEy, ' + userName + ', I am thinking of a number between 1 and 30.')\n",
    "while guessesTaken < 3:\n",
    "\n",
    "    print('Take a guess.')\n",
    "\n",
    "    guess = input()\n",
    "\n",
    "    guess = int(guess)\n",
    "    guessesTaken = guessesTaken + 1\n",
    "    if guess < number:\n",
    "\n",
    "        print('Your guess is too low.') # There are eight spaces in front of print.\n",
    "\n",
    "\n",
    "\n",
    "    if guess > number:\n",
    "        print('Your guess is too high.')\n",
    "    if guess == number:\n",
    "        break\n",
    "\n",
    "if guess == number:\n",
    "\n",
    "    guessesTaken = str(guessesTaken)\n",
    "\n",
    "    print('Good job, ' + userName + '! You guessed the number in ' + guessesTaken + ' guesses!')\n",
    "\n",
    "if guess != number:\n",
    "\n",
    "    number = str(number)\n",
    "    print('The number I was thinking of was ' + number)"
   ]
  },
  {
   "cell_type": "code",
   "execution_count": null,
   "metadata": {},
   "outputs": [],
   "source": []
  }
 ],
 "metadata": {
  "kernelspec": {
   "display_name": "Python 3",
   "language": "python",
   "name": "python3"
  },
  "language_info": {
   "codemirror_mode": {
    "name": "ipython",
    "version": 3
   },
   "file_extension": ".py",
   "mimetype": "text/x-python",
   "name": "python",
   "nbconvert_exporter": "python",
   "pygments_lexer": "ipython3",
   "version": "3.6.7"
  }
 },
 "nbformat": 4,
 "nbformat_minor": 2
}
